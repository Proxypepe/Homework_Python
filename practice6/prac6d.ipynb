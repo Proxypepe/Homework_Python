{
 "cells": [
  {
   "cell_type": "code",
   "execution_count": 1,
   "metadata": {},
   "outputs": [],
   "source": [
    "import pandas as pd\n",
    "import numpy as np\n",
    "import scipy.stats as sts"
   ]
  },
  {
   "cell_type": "markdown",
   "metadata": {},
   "source": [
    "Загрузить данные из файла “ECDCCases.csv”."
   ]
  },
  {
   "cell_type": "code",
   "execution_count": 2,
   "metadata": {},
   "outputs": [
    {
     "data": {
      "text/plain": "          dateRep  day  month  year  cases  deaths countriesAndTerritories  \\\n0      14/12/2020   14     12  2020    746       6             Afghanistan   \n1      13/12/2020   13     12  2020    298       9             Afghanistan   \n2      12/12/2020   12     12  2020    113      11             Afghanistan   \n3      12/12/2020   12     12  2020    113      11             Afghanistan   \n4      11/12/2020   11     12  2020     63      10             Afghanistan   \n...           ...  ...    ...   ...    ...     ...                     ...   \n61899  25/03/2020   25      3  2020      0       0                Zimbabwe   \n61900  24/03/2020   24      3  2020      0       1                Zimbabwe   \n61901  23/03/2020   23      3  2020      0       0                Zimbabwe   \n61902  22/03/2020   22      3  2020      1       0                Zimbabwe   \n61903  21/03/2020   21      3  2020      1       0                Zimbabwe   \n\n      geoId countryterritoryCode  popData2019 continentExp  \\\n0        AF                  AFG   38041757.0         Asia   \n1        AF                  AFG   38041757.0         Asia   \n2        AF                  AFG   38041757.0         Asia   \n3        AF                  AFG   38041757.0         Asia   \n4        AF                  AFG   38041757.0         Asia   \n...     ...                  ...          ...          ...   \n61899    ZW                  ZWE   14645473.0       Africa   \n61900    ZW                  ZWE   14645473.0       Africa   \n61901    ZW                  ZWE   14645473.0       Africa   \n61902    ZW                  ZWE   14645473.0       Africa   \n61903    ZW                  ZWE   14645473.0       Africa   \n\n       Cumulative_number_for_14_days_of_COVID-19_cases_per_100000  \n0                                               9.013779           \n1                                               7.052776           \n2                                               6.868768           \n3                                               6.868768           \n4                                               7.134266           \n...                                                  ...           \n61899                                                NaN           \n61900                                                NaN           \n61901                                                NaN           \n61902                                                NaN           \n61903                                                NaN           \n\n[61904 rows x 12 columns]",
      "text/html": "<div>\n<style scoped>\n    .dataframe tbody tr th:only-of-type {\n        vertical-align: middle;\n    }\n\n    .dataframe tbody tr th {\n        vertical-align: top;\n    }\n\n    .dataframe thead th {\n        text-align: right;\n    }\n</style>\n<table border=\"1\" class=\"dataframe\">\n  <thead>\n    <tr style=\"text-align: right;\">\n      <th></th>\n      <th>dateRep</th>\n      <th>day</th>\n      <th>month</th>\n      <th>year</th>\n      <th>cases</th>\n      <th>deaths</th>\n      <th>countriesAndTerritories</th>\n      <th>geoId</th>\n      <th>countryterritoryCode</th>\n      <th>popData2019</th>\n      <th>continentExp</th>\n      <th>Cumulative_number_for_14_days_of_COVID-19_cases_per_100000</th>\n    </tr>\n  </thead>\n  <tbody>\n    <tr>\n      <th>0</th>\n      <td>14/12/2020</td>\n      <td>14</td>\n      <td>12</td>\n      <td>2020</td>\n      <td>746</td>\n      <td>6</td>\n      <td>Afghanistan</td>\n      <td>AF</td>\n      <td>AFG</td>\n      <td>38041757.0</td>\n      <td>Asia</td>\n      <td>9.013779</td>\n    </tr>\n    <tr>\n      <th>1</th>\n      <td>13/12/2020</td>\n      <td>13</td>\n      <td>12</td>\n      <td>2020</td>\n      <td>298</td>\n      <td>9</td>\n      <td>Afghanistan</td>\n      <td>AF</td>\n      <td>AFG</td>\n      <td>38041757.0</td>\n      <td>Asia</td>\n      <td>7.052776</td>\n    </tr>\n    <tr>\n      <th>2</th>\n      <td>12/12/2020</td>\n      <td>12</td>\n      <td>12</td>\n      <td>2020</td>\n      <td>113</td>\n      <td>11</td>\n      <td>Afghanistan</td>\n      <td>AF</td>\n      <td>AFG</td>\n      <td>38041757.0</td>\n      <td>Asia</td>\n      <td>6.868768</td>\n    </tr>\n    <tr>\n      <th>3</th>\n      <td>12/12/2020</td>\n      <td>12</td>\n      <td>12</td>\n      <td>2020</td>\n      <td>113</td>\n      <td>11</td>\n      <td>Afghanistan</td>\n      <td>AF</td>\n      <td>AFG</td>\n      <td>38041757.0</td>\n      <td>Asia</td>\n      <td>6.868768</td>\n    </tr>\n    <tr>\n      <th>4</th>\n      <td>11/12/2020</td>\n      <td>11</td>\n      <td>12</td>\n      <td>2020</td>\n      <td>63</td>\n      <td>10</td>\n      <td>Afghanistan</td>\n      <td>AF</td>\n      <td>AFG</td>\n      <td>38041757.0</td>\n      <td>Asia</td>\n      <td>7.134266</td>\n    </tr>\n    <tr>\n      <th>...</th>\n      <td>...</td>\n      <td>...</td>\n      <td>...</td>\n      <td>...</td>\n      <td>...</td>\n      <td>...</td>\n      <td>...</td>\n      <td>...</td>\n      <td>...</td>\n      <td>...</td>\n      <td>...</td>\n      <td>...</td>\n    </tr>\n    <tr>\n      <th>61899</th>\n      <td>25/03/2020</td>\n      <td>25</td>\n      <td>3</td>\n      <td>2020</td>\n      <td>0</td>\n      <td>0</td>\n      <td>Zimbabwe</td>\n      <td>ZW</td>\n      <td>ZWE</td>\n      <td>14645473.0</td>\n      <td>Africa</td>\n      <td>NaN</td>\n    </tr>\n    <tr>\n      <th>61900</th>\n      <td>24/03/2020</td>\n      <td>24</td>\n      <td>3</td>\n      <td>2020</td>\n      <td>0</td>\n      <td>1</td>\n      <td>Zimbabwe</td>\n      <td>ZW</td>\n      <td>ZWE</td>\n      <td>14645473.0</td>\n      <td>Africa</td>\n      <td>NaN</td>\n    </tr>\n    <tr>\n      <th>61901</th>\n      <td>23/03/2020</td>\n      <td>23</td>\n      <td>3</td>\n      <td>2020</td>\n      <td>0</td>\n      <td>0</td>\n      <td>Zimbabwe</td>\n      <td>ZW</td>\n      <td>ZWE</td>\n      <td>14645473.0</td>\n      <td>Africa</td>\n      <td>NaN</td>\n    </tr>\n    <tr>\n      <th>61902</th>\n      <td>22/03/2020</td>\n      <td>22</td>\n      <td>3</td>\n      <td>2020</td>\n      <td>1</td>\n      <td>0</td>\n      <td>Zimbabwe</td>\n      <td>ZW</td>\n      <td>ZWE</td>\n      <td>14645473.0</td>\n      <td>Africa</td>\n      <td>NaN</td>\n    </tr>\n    <tr>\n      <th>61903</th>\n      <td>21/03/2020</td>\n      <td>21</td>\n      <td>3</td>\n      <td>2020</td>\n      <td>1</td>\n      <td>0</td>\n      <td>Zimbabwe</td>\n      <td>ZW</td>\n      <td>ZWE</td>\n      <td>14645473.0</td>\n      <td>Africa</td>\n      <td>NaN</td>\n    </tr>\n  </tbody>\n</table>\n<p>61904 rows × 12 columns</p>\n</div>"
     },
     "execution_count": 2,
     "metadata": {},
     "output_type": "execute_result"
    }
   ],
   "source": [
    "data = pd.read_csv('ECDCCases.csv')\n",
    "data"
   ]
  },
  {
   "cell_type": "markdown",
   "metadata": {},
   "source": [
    "Проверить в данных наличие пропущенных значений."
   ]
  },
  {
   "cell_type": "code",
   "execution_count": 3,
   "metadata": {},
   "outputs": [
    {
     "data": {
      "text/plain": "dateRep                                                          0\nday                                                              0\nmonth                                                            0\nyear                                                             0\ncases                                                            0\ndeaths                                                           0\ncountriesAndTerritories                                          0\ngeoId                                                          275\ncountryterritoryCode                                           123\npopData2019                                                    123\ncontinentExp                                                     0\nCumulative_number_for_14_days_of_COVID-19_cases_per_100000    2879\ndtype: int64"
     },
     "execution_count": 3,
     "metadata": {},
     "output_type": "execute_result"
    }
   ],
   "source": [
    "data.isna().sum()"
   ]
  },
  {
   "cell_type": "markdown",
   "metadata": {},
   "source": [
    "Вывести количество пропущенных значений в процентах."
   ]
  },
  {
   "cell_type": "code",
   "execution_count": 4,
   "metadata": {},
   "outputs": [
    {
     "name": "stdout",
     "output_type": "stream",
     "text": [
      "dateRep : 0.0%\n",
      "day : 0.0%\n",
      "month : 0.0%\n",
      "year : 0.0%\n",
      "cases : 0.0%\n",
      "deaths : 0.0%\n",
      "countriesAndTerritories : 0.0%\n",
      "geoId : 0.4%\n",
      "countryterritoryCode : 0.2%\n",
      "popData2019 : 0.2%\n",
      "continentExp : 0.0%\n",
      "Cumulative_number_for_14_days_of_COVID-19_cases_per_100000 : 4.7%\n"
     ]
    }
   ],
   "source": [
    "for column in data.columns:\n",
    "    missing = np.mean(data[column].isna()*100)\n",
    "    print(f'{column} : {round(missing,1)}%')"
   ]
  },
  {
   "cell_type": "markdown",
   "metadata": {},
   "source": [
    "Удалить два признака, в\n",
    "которых больше всех пропущенных значений. \n",
    "Для оставшихся признаков\n",
    "обработать пропуски: для категориального признака использовать заполнение\n",
    "значением по умолчанию (например, «other»), для числового признака\n",
    "использовать заполнение медианным значением. Показать, что пропусков\n",
    "больше в данных нет.\n"
   ]
  },
  {
   "cell_type": "code",
   "execution_count": 5,
   "metadata": {},
   "outputs": [
    {
     "data": {
      "text/plain": "dateRep                    0\nday                        0\nmonth                      0\nyear                       0\ncases                      0\ndeaths                     0\ncountriesAndTerritories    0\ncountryterritoryCode       0\npopData2019                0\ncontinentExp               0\ndtype: int64"
     },
     "execution_count": 5,
     "metadata": {},
     "output_type": "execute_result"
    }
   ],
   "source": [
    "data.drop(\n",
    "    ['Cumulative_number_for_14_days_of_COVID-19_cases_per_100000', 'geoId'],\n",
    "    axis=1,\n",
    "    inplace=True)\n",
    "median_data = data.popData2019.median()\n",
    "data.popData2019.fillna(median_data, inplace=True)\n",
    "terr_code = 'other'\n",
    "data.countryterritoryCode.fillna(terr_code, inplace=True)\n",
    "data.isna().sum()"
   ]
  },
  {
   "cell_type": "markdown",
   "metadata": {},
   "source": [
    "Посмотреть статистику по данным, используя describe(). Сделать\n",
    "выводы о том, какие признаки содержат выбросы. "
   ]
  },
  {
   "cell_type": "code",
   "execution_count": 6,
   "metadata": {},
   "outputs": [
    {
     "data": {
      "text/plain": "                day         month          year          cases        deaths  \\\ncount  61904.000000  61904.000000  61904.000000   61904.000000  61904.000000   \nmean      15.629232      7.067104   2019.998918    1155.079026     26.053987   \nstd        8.841624      2.954816      0.032881    6779.010824    131.222948   \nmin        1.000000      1.000000   2019.000000   -8261.000000  -1918.000000   \n25%        8.000000      5.000000   2020.000000       0.000000      0.000000   \n50%       15.000000      7.000000   2020.000000      15.000000      0.000000   \n75%       23.000000     10.000000   2020.000000     273.000000      4.000000   \nmax       31.000000     12.000000   2020.000000  234633.000000   4928.000000   \n\n        popData2019  \ncount  6.190400e+04  \nmean   4.091909e+07  \nstd    1.529798e+08  \nmin    8.150000e+02  \n25%    1.324820e+06  \n50%    7.169456e+06  \n75%    2.851583e+07  \nmax    1.433784e+09  ",
      "text/html": "<div>\n<style scoped>\n    .dataframe tbody tr th:only-of-type {\n        vertical-align: middle;\n    }\n\n    .dataframe tbody tr th {\n        vertical-align: top;\n    }\n\n    .dataframe thead th {\n        text-align: right;\n    }\n</style>\n<table border=\"1\" class=\"dataframe\">\n  <thead>\n    <tr style=\"text-align: right;\">\n      <th></th>\n      <th>day</th>\n      <th>month</th>\n      <th>year</th>\n      <th>cases</th>\n      <th>deaths</th>\n      <th>popData2019</th>\n    </tr>\n  </thead>\n  <tbody>\n    <tr>\n      <th>count</th>\n      <td>61904.000000</td>\n      <td>61904.000000</td>\n      <td>61904.000000</td>\n      <td>61904.000000</td>\n      <td>61904.000000</td>\n      <td>6.190400e+04</td>\n    </tr>\n    <tr>\n      <th>mean</th>\n      <td>15.629232</td>\n      <td>7.067104</td>\n      <td>2019.998918</td>\n      <td>1155.079026</td>\n      <td>26.053987</td>\n      <td>4.091909e+07</td>\n    </tr>\n    <tr>\n      <th>std</th>\n      <td>8.841624</td>\n      <td>2.954816</td>\n      <td>0.032881</td>\n      <td>6779.010824</td>\n      <td>131.222948</td>\n      <td>1.529798e+08</td>\n    </tr>\n    <tr>\n      <th>min</th>\n      <td>1.000000</td>\n      <td>1.000000</td>\n      <td>2019.000000</td>\n      <td>-8261.000000</td>\n      <td>-1918.000000</td>\n      <td>8.150000e+02</td>\n    </tr>\n    <tr>\n      <th>25%</th>\n      <td>8.000000</td>\n      <td>5.000000</td>\n      <td>2020.000000</td>\n      <td>0.000000</td>\n      <td>0.000000</td>\n      <td>1.324820e+06</td>\n    </tr>\n    <tr>\n      <th>50%</th>\n      <td>15.000000</td>\n      <td>7.000000</td>\n      <td>2020.000000</td>\n      <td>15.000000</td>\n      <td>0.000000</td>\n      <td>7.169456e+06</td>\n    </tr>\n    <tr>\n      <th>75%</th>\n      <td>23.000000</td>\n      <td>10.000000</td>\n      <td>2020.000000</td>\n      <td>273.000000</td>\n      <td>4.000000</td>\n      <td>2.851583e+07</td>\n    </tr>\n    <tr>\n      <th>max</th>\n      <td>31.000000</td>\n      <td>12.000000</td>\n      <td>2020.000000</td>\n      <td>234633.000000</td>\n      <td>4928.000000</td>\n      <td>1.433784e+09</td>\n    </tr>\n  </tbody>\n</table>\n</div>"
     },
     "execution_count": 6,
     "metadata": {},
     "output_type": "execute_result"
    }
   ],
   "source": [
    "data.describe()"
   ]
  },
  {
   "cell_type": "markdown",
   "metadata": {},
   "source": [
    "Посмотреть, для каких\n",
    "стран количество смертей в день превысило 3000 и сколько таких дней было"
   ]
  },
  {
   "cell_type": "code",
   "execution_count": 7,
   "metadata": {},
   "outputs": [
    {
     "data": {
      "text/plain": "          dateRep   countriesAndTerritories  deaths\n2118   02/10/2020                 Argentina    3351\n16908  07/09/2020                   Ecuador    3800\n37038  09/10/2020                    Mexico    3013\n44888  14/08/2020                      Peru    3935\n44909  24/07/2020                      Peru    3887\n59007  12/12/2020  United_States_of_America    3343\n59009  10/12/2020  United_States_of_America    3124\n59016  03/12/2020  United_States_of_America    3190\n59239  24/04/2020  United_States_of_America    3179\n59245  18/04/2020  United_States_of_America    3770\n59247  16/04/2020  United_States_of_America    4928",
      "text/html": "<div>\n<style scoped>\n    .dataframe tbody tr th:only-of-type {\n        vertical-align: middle;\n    }\n\n    .dataframe tbody tr th {\n        vertical-align: top;\n    }\n\n    .dataframe thead th {\n        text-align: right;\n    }\n</style>\n<table border=\"1\" class=\"dataframe\">\n  <thead>\n    <tr style=\"text-align: right;\">\n      <th></th>\n      <th>dateRep</th>\n      <th>countriesAndTerritories</th>\n      <th>deaths</th>\n    </tr>\n  </thead>\n  <tbody>\n    <tr>\n      <th>2118</th>\n      <td>02/10/2020</td>\n      <td>Argentina</td>\n      <td>3351</td>\n    </tr>\n    <tr>\n      <th>16908</th>\n      <td>07/09/2020</td>\n      <td>Ecuador</td>\n      <td>3800</td>\n    </tr>\n    <tr>\n      <th>37038</th>\n      <td>09/10/2020</td>\n      <td>Mexico</td>\n      <td>3013</td>\n    </tr>\n    <tr>\n      <th>44888</th>\n      <td>14/08/2020</td>\n      <td>Peru</td>\n      <td>3935</td>\n    </tr>\n    <tr>\n      <th>44909</th>\n      <td>24/07/2020</td>\n      <td>Peru</td>\n      <td>3887</td>\n    </tr>\n    <tr>\n      <th>59007</th>\n      <td>12/12/2020</td>\n      <td>United_States_of_America</td>\n      <td>3343</td>\n    </tr>\n    <tr>\n      <th>59009</th>\n      <td>10/12/2020</td>\n      <td>United_States_of_America</td>\n      <td>3124</td>\n    </tr>\n    <tr>\n      <th>59016</th>\n      <td>03/12/2020</td>\n      <td>United_States_of_America</td>\n      <td>3190</td>\n    </tr>\n    <tr>\n      <th>59239</th>\n      <td>24/04/2020</td>\n      <td>United_States_of_America</td>\n      <td>3179</td>\n    </tr>\n    <tr>\n      <th>59245</th>\n      <td>18/04/2020</td>\n      <td>United_States_of_America</td>\n      <td>3770</td>\n    </tr>\n    <tr>\n      <th>59247</th>\n      <td>16/04/2020</td>\n      <td>United_States_of_America</td>\n      <td>4928</td>\n    </tr>\n  </tbody>\n</table>\n</div>"
     },
     "execution_count": 7,
     "metadata": {},
     "output_type": "execute_result"
    }
   ],
   "source": [
    "filter = data['deaths'] > 3000\n",
    "data_filter = data[['dateRep', 'countriesAndTerritories', 'deaths']].loc[filter]\n",
    "data_filter"
   ]
  },
  {
   "cell_type": "markdown",
   "metadata": {},
   "source": [
    "Найти дублирование данных."
   ]
  },
  {
   "cell_type": "code",
   "execution_count": 8,
   "metadata": {},
   "outputs": [
    {
     "data": {
      "text/plain": "          dateRep  day  month  year  cases  deaths countriesAndTerritories  \\\n3      12/12/2020   12     12  2020    113      11             Afghanistan   \n218    12/05/2020   12      5  2020    285       2             Afghanistan   \n48010  29/05/2020   29      5  2020      0       0             Saint_Lucia   \n48073  28/03/2020   28      3  2020      0       0             Saint_Lucia   \n\n      countryterritoryCode  popData2019 continentExp  \n3                      AFG   38041757.0         Asia  \n218                    AFG   38041757.0         Asia  \n48010                  LCA     182795.0      America  \n48073                  LCA     182795.0      America  ",
      "text/html": "<div>\n<style scoped>\n    .dataframe tbody tr th:only-of-type {\n        vertical-align: middle;\n    }\n\n    .dataframe tbody tr th {\n        vertical-align: top;\n    }\n\n    .dataframe thead th {\n        text-align: right;\n    }\n</style>\n<table border=\"1\" class=\"dataframe\">\n  <thead>\n    <tr style=\"text-align: right;\">\n      <th></th>\n      <th>dateRep</th>\n      <th>day</th>\n      <th>month</th>\n      <th>year</th>\n      <th>cases</th>\n      <th>deaths</th>\n      <th>countriesAndTerritories</th>\n      <th>countryterritoryCode</th>\n      <th>popData2019</th>\n      <th>continentExp</th>\n    </tr>\n  </thead>\n  <tbody>\n    <tr>\n      <th>3</th>\n      <td>12/12/2020</td>\n      <td>12</td>\n      <td>12</td>\n      <td>2020</td>\n      <td>113</td>\n      <td>11</td>\n      <td>Afghanistan</td>\n      <td>AFG</td>\n      <td>38041757.0</td>\n      <td>Asia</td>\n    </tr>\n    <tr>\n      <th>218</th>\n      <td>12/05/2020</td>\n      <td>12</td>\n      <td>5</td>\n      <td>2020</td>\n      <td>285</td>\n      <td>2</td>\n      <td>Afghanistan</td>\n      <td>AFG</td>\n      <td>38041757.0</td>\n      <td>Asia</td>\n    </tr>\n    <tr>\n      <th>48010</th>\n      <td>29/05/2020</td>\n      <td>29</td>\n      <td>5</td>\n      <td>2020</td>\n      <td>0</td>\n      <td>0</td>\n      <td>Saint_Lucia</td>\n      <td>LCA</td>\n      <td>182795.0</td>\n      <td>America</td>\n    </tr>\n    <tr>\n      <th>48073</th>\n      <td>28/03/2020</td>\n      <td>28</td>\n      <td>3</td>\n      <td>2020</td>\n      <td>0</td>\n      <td>0</td>\n      <td>Saint_Lucia</td>\n      <td>LCA</td>\n      <td>182795.0</td>\n      <td>America</td>\n    </tr>\n  </tbody>\n</table>\n</div>"
     },
     "execution_count": 8,
     "metadata": {},
     "output_type": "execute_result"
    }
   ],
   "source": [
    "due_rows = data[data.duplicated()]\n",
    "due_rows"
   ]
  },
  {
   "cell_type": "markdown",
   "metadata": {},
   "source": [
    "Удалить дубликаты."
   ]
  },
  {
   "cell_type": "code",
   "execution_count": 9,
   "metadata": {},
   "outputs": [
    {
     "data": {
      "text/plain": "          dateRep  day  month  year  cases  deaths countriesAndTerritories  \\\n0      14/12/2020   14     12  2020    746       6             Afghanistan   \n1      13/12/2020   13     12  2020    298       9             Afghanistan   \n2      12/12/2020   12     12  2020    113      11             Afghanistan   \n4      11/12/2020   11     12  2020     63      10             Afghanistan   \n5      10/12/2020   10     12  2020    202      16             Afghanistan   \n...           ...  ...    ...   ...    ...     ...                     ...   \n61899  25/03/2020   25      3  2020      0       0                Zimbabwe   \n61900  24/03/2020   24      3  2020      0       1                Zimbabwe   \n61901  23/03/2020   23      3  2020      0       0                Zimbabwe   \n61902  22/03/2020   22      3  2020      1       0                Zimbabwe   \n61903  21/03/2020   21      3  2020      1       0                Zimbabwe   \n\n      countryterritoryCode  popData2019 continentExp  \n0                      AFG   38041757.0         Asia  \n1                      AFG   38041757.0         Asia  \n2                      AFG   38041757.0         Asia  \n4                      AFG   38041757.0         Asia  \n5                      AFG   38041757.0         Asia  \n...                    ...          ...          ...  \n61899                  ZWE   14645473.0       Africa  \n61900                  ZWE   14645473.0       Africa  \n61901                  ZWE   14645473.0       Africa  \n61902                  ZWE   14645473.0       Africa  \n61903                  ZWE   14645473.0       Africa  \n\n[61900 rows x 10 columns]",
      "text/html": "<div>\n<style scoped>\n    .dataframe tbody tr th:only-of-type {\n        vertical-align: middle;\n    }\n\n    .dataframe tbody tr th {\n        vertical-align: top;\n    }\n\n    .dataframe thead th {\n        text-align: right;\n    }\n</style>\n<table border=\"1\" class=\"dataframe\">\n  <thead>\n    <tr style=\"text-align: right;\">\n      <th></th>\n      <th>dateRep</th>\n      <th>day</th>\n      <th>month</th>\n      <th>year</th>\n      <th>cases</th>\n      <th>deaths</th>\n      <th>countriesAndTerritories</th>\n      <th>countryterritoryCode</th>\n      <th>popData2019</th>\n      <th>continentExp</th>\n    </tr>\n  </thead>\n  <tbody>\n    <tr>\n      <th>0</th>\n      <td>14/12/2020</td>\n      <td>14</td>\n      <td>12</td>\n      <td>2020</td>\n      <td>746</td>\n      <td>6</td>\n      <td>Afghanistan</td>\n      <td>AFG</td>\n      <td>38041757.0</td>\n      <td>Asia</td>\n    </tr>\n    <tr>\n      <th>1</th>\n      <td>13/12/2020</td>\n      <td>13</td>\n      <td>12</td>\n      <td>2020</td>\n      <td>298</td>\n      <td>9</td>\n      <td>Afghanistan</td>\n      <td>AFG</td>\n      <td>38041757.0</td>\n      <td>Asia</td>\n    </tr>\n    <tr>\n      <th>2</th>\n      <td>12/12/2020</td>\n      <td>12</td>\n      <td>12</td>\n      <td>2020</td>\n      <td>113</td>\n      <td>11</td>\n      <td>Afghanistan</td>\n      <td>AFG</td>\n      <td>38041757.0</td>\n      <td>Asia</td>\n    </tr>\n    <tr>\n      <th>4</th>\n      <td>11/12/2020</td>\n      <td>11</td>\n      <td>12</td>\n      <td>2020</td>\n      <td>63</td>\n      <td>10</td>\n      <td>Afghanistan</td>\n      <td>AFG</td>\n      <td>38041757.0</td>\n      <td>Asia</td>\n    </tr>\n    <tr>\n      <th>5</th>\n      <td>10/12/2020</td>\n      <td>10</td>\n      <td>12</td>\n      <td>2020</td>\n      <td>202</td>\n      <td>16</td>\n      <td>Afghanistan</td>\n      <td>AFG</td>\n      <td>38041757.0</td>\n      <td>Asia</td>\n    </tr>\n    <tr>\n      <th>...</th>\n      <td>...</td>\n      <td>...</td>\n      <td>...</td>\n      <td>...</td>\n      <td>...</td>\n      <td>...</td>\n      <td>...</td>\n      <td>...</td>\n      <td>...</td>\n      <td>...</td>\n    </tr>\n    <tr>\n      <th>61899</th>\n      <td>25/03/2020</td>\n      <td>25</td>\n      <td>3</td>\n      <td>2020</td>\n      <td>0</td>\n      <td>0</td>\n      <td>Zimbabwe</td>\n      <td>ZWE</td>\n      <td>14645473.0</td>\n      <td>Africa</td>\n    </tr>\n    <tr>\n      <th>61900</th>\n      <td>24/03/2020</td>\n      <td>24</td>\n      <td>3</td>\n      <td>2020</td>\n      <td>0</td>\n      <td>1</td>\n      <td>Zimbabwe</td>\n      <td>ZWE</td>\n      <td>14645473.0</td>\n      <td>Africa</td>\n    </tr>\n    <tr>\n      <th>61901</th>\n      <td>23/03/2020</td>\n      <td>23</td>\n      <td>3</td>\n      <td>2020</td>\n      <td>0</td>\n      <td>0</td>\n      <td>Zimbabwe</td>\n      <td>ZWE</td>\n      <td>14645473.0</td>\n      <td>Africa</td>\n    </tr>\n    <tr>\n      <th>61902</th>\n      <td>22/03/2020</td>\n      <td>22</td>\n      <td>3</td>\n      <td>2020</td>\n      <td>1</td>\n      <td>0</td>\n      <td>Zimbabwe</td>\n      <td>ZWE</td>\n      <td>14645473.0</td>\n      <td>Africa</td>\n    </tr>\n    <tr>\n      <th>61903</th>\n      <td>21/03/2020</td>\n      <td>21</td>\n      <td>3</td>\n      <td>2020</td>\n      <td>1</td>\n      <td>0</td>\n      <td>Zimbabwe</td>\n      <td>ZWE</td>\n      <td>14645473.0</td>\n      <td>Africa</td>\n    </tr>\n  </tbody>\n</table>\n<p>61900 rows × 10 columns</p>\n</div>"
     },
     "execution_count": 9,
     "metadata": {},
     "output_type": "execute_result"
    }
   ],
   "source": [
    "data.drop_duplicates(inplace=True)\n",
    "data"
   ]
  },
  {
   "cell_type": "markdown",
   "metadata": {},
   "source": [
    "Загрузить данные из файла “ bmi.csv”.\n",
    "Взять оттуда две выборки. Одна\n",
    "выборка – это индекс массы тела людей c региона northwest, вторая выборка –\n",
    "это индекс массы тела людей с региона southwest"
   ]
  },
  {
   "cell_type": "code",
   "execution_count": 10,
   "metadata": {},
   "outputs": [
    {
     "data": {
      "text/plain": "        bmi     region\n0    22.705  northwest\n1    28.880  northwest\n2    27.740  northwest\n3    25.840  northwest\n4    28.025  northwest\n..      ...        ...\n320  26.315  northwest\n321  31.065  northwest\n322  25.935  northwest\n323  30.970  northwest\n324  29.070  northwest\n\n[325 rows x 2 columns]",
      "text/html": "<div>\n<style scoped>\n    .dataframe tbody tr th:only-of-type {\n        vertical-align: middle;\n    }\n\n    .dataframe tbody tr th {\n        vertical-align: top;\n    }\n\n    .dataframe thead th {\n        text-align: right;\n    }\n</style>\n<table border=\"1\" class=\"dataframe\">\n  <thead>\n    <tr style=\"text-align: right;\">\n      <th></th>\n      <th>bmi</th>\n      <th>region</th>\n    </tr>\n  </thead>\n  <tbody>\n    <tr>\n      <th>0</th>\n      <td>22.705</td>\n      <td>northwest</td>\n    </tr>\n    <tr>\n      <th>1</th>\n      <td>28.880</td>\n      <td>northwest</td>\n    </tr>\n    <tr>\n      <th>2</th>\n      <td>27.740</td>\n      <td>northwest</td>\n    </tr>\n    <tr>\n      <th>3</th>\n      <td>25.840</td>\n      <td>northwest</td>\n    </tr>\n    <tr>\n      <th>4</th>\n      <td>28.025</td>\n      <td>northwest</td>\n    </tr>\n    <tr>\n      <th>...</th>\n      <td>...</td>\n      <td>...</td>\n    </tr>\n    <tr>\n      <th>320</th>\n      <td>26.315</td>\n      <td>northwest</td>\n    </tr>\n    <tr>\n      <th>321</th>\n      <td>31.065</td>\n      <td>northwest</td>\n    </tr>\n    <tr>\n      <th>322</th>\n      <td>25.935</td>\n      <td>northwest</td>\n    </tr>\n    <tr>\n      <th>323</th>\n      <td>30.970</td>\n      <td>northwest</td>\n    </tr>\n    <tr>\n      <th>324</th>\n      <td>29.070</td>\n      <td>northwest</td>\n    </tr>\n  </tbody>\n</table>\n<p>325 rows × 2 columns</p>\n</div>"
     },
     "execution_count": 10,
     "metadata": {},
     "output_type": "execute_result"
    }
   ],
   "source": [
    "data = pd.read_csv('bmi.csv')\n",
    "data1 = data.loc[data['region'] == 'northwest']\n",
    "data1"
   ]
  },
  {
   "cell_type": "code",
   "execution_count": 11,
   "metadata": {},
   "outputs": [
    {
     "data": {
      "text/plain": "      bmi     region\n325  27.9  southwest\n326  34.4  southwest\n327  24.6  southwest\n328  40.3  southwest\n329  35.3  southwest\n..    ...        ...\n645  20.6  southwest\n646  38.6  southwest\n647  33.4  southwest\n648  44.7  southwest\n649  25.8  southwest\n\n[325 rows x 2 columns]",
      "text/html": "<div>\n<style scoped>\n    .dataframe tbody tr th:only-of-type {\n        vertical-align: middle;\n    }\n\n    .dataframe tbody tr th {\n        vertical-align: top;\n    }\n\n    .dataframe thead th {\n        text-align: right;\n    }\n</style>\n<table border=\"1\" class=\"dataframe\">\n  <thead>\n    <tr style=\"text-align: right;\">\n      <th></th>\n      <th>bmi</th>\n      <th>region</th>\n    </tr>\n  </thead>\n  <tbody>\n    <tr>\n      <th>325</th>\n      <td>27.9</td>\n      <td>southwest</td>\n    </tr>\n    <tr>\n      <th>326</th>\n      <td>34.4</td>\n      <td>southwest</td>\n    </tr>\n    <tr>\n      <th>327</th>\n      <td>24.6</td>\n      <td>southwest</td>\n    </tr>\n    <tr>\n      <th>328</th>\n      <td>40.3</td>\n      <td>southwest</td>\n    </tr>\n    <tr>\n      <th>329</th>\n      <td>35.3</td>\n      <td>southwest</td>\n    </tr>\n    <tr>\n      <th>...</th>\n      <td>...</td>\n      <td>...</td>\n    </tr>\n    <tr>\n      <th>645</th>\n      <td>20.6</td>\n      <td>southwest</td>\n    </tr>\n    <tr>\n      <th>646</th>\n      <td>38.6</td>\n      <td>southwest</td>\n    </tr>\n    <tr>\n      <th>647</th>\n      <td>33.4</td>\n      <td>southwest</td>\n    </tr>\n    <tr>\n      <th>648</th>\n      <td>44.7</td>\n      <td>southwest</td>\n    </tr>\n    <tr>\n      <th>649</th>\n      <td>25.8</td>\n      <td>southwest</td>\n    </tr>\n  </tbody>\n</table>\n<p>325 rows × 2 columns</p>\n</div>"
     },
     "execution_count": 11,
     "metadata": {},
     "output_type": "execute_result"
    }
   ],
   "source": [
    "data2 = data.loc[data['region'] == 'southwest']\n",
    "data2"
   ]
  },
  {
   "cell_type": "markdown",
   "metadata": {},
   "source": [
    "Сравнить средние значения\n",
    "этих выборок, используя t-критерий Стьюдента. Предварительно проверить\n",
    "выборки на нормальность (критерий Шопиро-Уилка) и на гомогенность\n",
    "дисперсии (критерий Бартлетта)."
   ]
  },
  {
   "cell_type": "code",
   "execution_count": 12,
   "metadata": {},
   "outputs": [
    {
     "name": "stdout",
     "output_type": "stream",
     "text": [
      "ShapiroResult(statistic=0.9954646825790405, pvalue=0.4655335247516632) \n",
      " ShapiroResult(statistic=0.9949268698692322, pvalue=0.3629520535469055)\n"
     ]
    }
   ],
   "source": [
    "res1 = sts.shapiro(data1['bmi'])\n",
    "res2 = sts.shapiro(data2['bmi'])\n",
    "print(res1, '\\n', res2)"
   ]
  },
  {
   "cell_type": "code",
   "execution_count": 13,
   "metadata": {},
   "outputs": [
    {
     "data": {
      "text/plain": "BartlettResult(statistic=0.020568727129718727, pvalue=0.8859600558506152)"
     },
     "execution_count": 13,
     "metadata": {},
     "output_type": "execute_result"
    }
   ],
   "source": [
    "res = sts.bartlett(res1,res2)\n",
    "res"
   ]
  },
  {
   "cell_type": "code",
   "execution_count": 14,
   "metadata": {},
   "outputs": [
    {
     "data": {
      "text/plain": "Ttest_indResult(statistic=0.1250303495147544, pvalue=0.9119336981343351)"
     },
     "execution_count": 14,
     "metadata": {},
     "output_type": "execute_result"
    }
   ],
   "source": [
    "t_res = sts.ttest_ind(res1,res2)\n",
    "t_res"
   ]
  },
  {
   "cell_type": "markdown",
   "metadata": {},
   "source": [
    "С помощью критерия Хи-квадрат проверить, является ли полученное\n",
    "распределение равномерным. Использовать функцию scipy.stats.chisquare()."
   ]
  },
  {
   "cell_type": "code",
   "execution_count": 15,
   "metadata": {},
   "outputs": [
    {
     "data": {
      "text/plain": "Power_divergenceResult(statistic=1.44, pvalue=0.9198882077437889)"
     },
     "execution_count": 15,
     "metadata": {},
     "output_type": "execute_result"
    }
   ],
   "source": [
    "d = {\n",
    "    'Points': [1, 2, 3, 4, 5, 6],\n",
    "    'Полученный': [97, 98, 109, 95, 97, 104],\n",
    "    'Ожидаемый': [100, 100, 100, 100, 100, 100]\n",
    "}\n",
    "data = pd.DataFrame(data=d)\n",
    "sts.chisquare(data['Полученный'], data['Ожидаемый'])"
   ]
  },
  {
   "cell_type": "markdown",
   "metadata": {},
   "source": [
    "С помощью критерия Хи-квадрат проверить, являются ли переменные\n",
    "зависимыми.\n",
    "Использовать функцию scipy.stats.chi2_contingency().\n",
    "Влияет ли семейное положение на занятость?"
   ]
  },
  {
   "cell_type": "code",
   "execution_count": 16,
   "metadata": {},
   "outputs": [
    {
     "data": {
      "text/plain": "1.7291616900960234e-21"
     },
     "execution_count": 16,
     "metadata": {},
     "output_type": "execute_result"
    }
   ],
   "source": [
    "data = pd.DataFrame({\n",
    "    'Женат': [89, 17, 11, 43, 22, 1],\n",
    "    'Гражданский брак': [80, 22, 20, 35, 6, 4],\n",
    "    'Не состоит в отношениях': [35, 44, 35, 6, 8, 22]\n",
    "})\n",
    "data.index = [\n",
    "    'Полный рабочий день', 'Частичная занятость', 'Временно не работает',\n",
    "    'На домохозяйстве', 'На пенсии', 'Учёба'\n",
    "]\n",
    "sts.chi2_contingency(data)[1]"
   ]
  }
 ],
 "metadata": {
  "kernelspec": {
   "display_name": "Python 3.10.5 64-bit",
   "language": "python",
   "name": "python3"
  },
  "language_info": {
   "codemirror_mode": {
    "name": "ipython",
    "version": 3
   },
   "file_extension": ".py",
   "mimetype": "text/x-python",
   "name": "python",
   "nbconvert_exporter": "python",
   "pygments_lexer": "ipython3",
   "version": "3.10.5"
  },
  "orig_nbformat": 4,
  "vscode": {
   "interpreter": {
    "hash": "fb4569285eef3a3450cb62085a5b1e0da4bce0af555edc33dcf29baf3acc1368"
   }
  }
 },
 "nbformat": 4,
 "nbformat_minor": 2
}
