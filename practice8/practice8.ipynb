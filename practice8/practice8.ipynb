{
 "cells": [
  {
   "cell_type": "code",
   "execution_count": 1,
   "metadata": {
    "collapsed": true
   },
   "outputs": [],
   "source": [
    "import pandas as pd\n",
    "import matplotlib.pyplot as plt\n",
    "import scipy.stats as stats\n",
    "import statsmodels.api as sm\n",
    "from statsmodels.formula.api import ols\n",
    "from statsmodels.stats.multicomp import pairwise_tukeyhsd"
   ]
  },
  {
   "cell_type": "markdown",
   "source": [
    "\n",
    "Задание №1. Загрузить данные: ‘insurance.csv’. Вывести и провести предобработку.\n"
   ],
   "metadata": {
    "collapsed": false
   }
  },
  {
   "cell_type": "code",
   "execution_count": 2,
   "outputs": [
    {
     "data": {
      "text/plain": "      age     sex     bmi  children smoker     region      charges\n0      19  female  27.900         0    yes  southwest  16884.92400\n1      18    male  33.770         1     no  southeast   1725.55230\n2      28    male  33.000         3     no  southeast   4449.46200\n3      33    male  22.705         0     no  northwest  21984.47061\n4      32    male  28.880         0     no  northwest   3866.85520\n...   ...     ...     ...       ...    ...        ...          ...\n1333   50    male  30.970         3     no  northwest  10600.54830\n1334   18  female  31.920         0     no  northeast   2205.98080\n1335   18  female  36.850         0     no  southeast   1629.83350\n1336   21  female  25.800         0     no  southwest   2007.94500\n1337   61  female  29.070         0    yes  northwest  29141.36030\n\n[1338 rows x 7 columns]",
      "text/html": "<div>\n<style scoped>\n    .dataframe tbody tr th:only-of-type {\n        vertical-align: middle;\n    }\n\n    .dataframe tbody tr th {\n        vertical-align: top;\n    }\n\n    .dataframe thead th {\n        text-align: right;\n    }\n</style>\n<table border=\"1\" class=\"dataframe\">\n  <thead>\n    <tr style=\"text-align: right;\">\n      <th></th>\n      <th>age</th>\n      <th>sex</th>\n      <th>bmi</th>\n      <th>children</th>\n      <th>smoker</th>\n      <th>region</th>\n      <th>charges</th>\n    </tr>\n  </thead>\n  <tbody>\n    <tr>\n      <th>0</th>\n      <td>19</td>\n      <td>female</td>\n      <td>27.900</td>\n      <td>0</td>\n      <td>yes</td>\n      <td>southwest</td>\n      <td>16884.92400</td>\n    </tr>\n    <tr>\n      <th>1</th>\n      <td>18</td>\n      <td>male</td>\n      <td>33.770</td>\n      <td>1</td>\n      <td>no</td>\n      <td>southeast</td>\n      <td>1725.55230</td>\n    </tr>\n    <tr>\n      <th>2</th>\n      <td>28</td>\n      <td>male</td>\n      <td>33.000</td>\n      <td>3</td>\n      <td>no</td>\n      <td>southeast</td>\n      <td>4449.46200</td>\n    </tr>\n    <tr>\n      <th>3</th>\n      <td>33</td>\n      <td>male</td>\n      <td>22.705</td>\n      <td>0</td>\n      <td>no</td>\n      <td>northwest</td>\n      <td>21984.47061</td>\n    </tr>\n    <tr>\n      <th>4</th>\n      <td>32</td>\n      <td>male</td>\n      <td>28.880</td>\n      <td>0</td>\n      <td>no</td>\n      <td>northwest</td>\n      <td>3866.85520</td>\n    </tr>\n    <tr>\n      <th>...</th>\n      <td>...</td>\n      <td>...</td>\n      <td>...</td>\n      <td>...</td>\n      <td>...</td>\n      <td>...</td>\n      <td>...</td>\n    </tr>\n    <tr>\n      <th>1333</th>\n      <td>50</td>\n      <td>male</td>\n      <td>30.970</td>\n      <td>3</td>\n      <td>no</td>\n      <td>northwest</td>\n      <td>10600.54830</td>\n    </tr>\n    <tr>\n      <th>1334</th>\n      <td>18</td>\n      <td>female</td>\n      <td>31.920</td>\n      <td>0</td>\n      <td>no</td>\n      <td>northeast</td>\n      <td>2205.98080</td>\n    </tr>\n    <tr>\n      <th>1335</th>\n      <td>18</td>\n      <td>female</td>\n      <td>36.850</td>\n      <td>0</td>\n      <td>no</td>\n      <td>southeast</td>\n      <td>1629.83350</td>\n    </tr>\n    <tr>\n      <th>1336</th>\n      <td>21</td>\n      <td>female</td>\n      <td>25.800</td>\n      <td>0</td>\n      <td>no</td>\n      <td>southwest</td>\n      <td>2007.94500</td>\n    </tr>\n    <tr>\n      <th>1337</th>\n      <td>61</td>\n      <td>female</td>\n      <td>29.070</td>\n      <td>0</td>\n      <td>yes</td>\n      <td>northwest</td>\n      <td>29141.36030</td>\n    </tr>\n  </tbody>\n</table>\n<p>1338 rows × 7 columns</p>\n</div>"
     },
     "execution_count": 2,
     "metadata": {},
     "output_type": "execute_result"
    }
   ],
   "source": [
    "df = pd.read_csv('insurance.csv')\n",
    "df"
   ],
   "metadata": {
    "collapsed": false
   }
  },
  {
   "cell_type": "code",
   "execution_count": 3,
   "outputs": [
    {
     "data": {
      "text/plain": "age         0\nsex         0\nbmi         0\nchildren    0\nsmoker      0\nregion      0\ncharges     0\ndtype: int64"
     },
     "execution_count": 3,
     "metadata": {},
     "output_type": "execute_result"
    }
   ],
   "source": [
    "df.isna().sum()"
   ],
   "metadata": {
    "collapsed": false
   }
  },
  {
   "cell_type": "code",
   "execution_count": 4,
   "outputs": [
    {
     "data": {
      "text/plain": "         sex     bmi     region\n0     female  27.900  southwest\n1       male  33.770  southeast\n2       male  33.000  southeast\n3       male  22.705  northwest\n4       male  28.880  northwest\n...      ...     ...        ...\n1333    male  30.970  northwest\n1334  female  31.920  northeast\n1335  female  36.850  southeast\n1336  female  25.800  southwest\n1337  female  29.070  northwest\n\n[1338 rows x 3 columns]",
      "text/html": "<div>\n<style scoped>\n    .dataframe tbody tr th:only-of-type {\n        vertical-align: middle;\n    }\n\n    .dataframe tbody tr th {\n        vertical-align: top;\n    }\n\n    .dataframe thead th {\n        text-align: right;\n    }\n</style>\n<table border=\"1\" class=\"dataframe\">\n  <thead>\n    <tr style=\"text-align: right;\">\n      <th></th>\n      <th>sex</th>\n      <th>bmi</th>\n      <th>region</th>\n    </tr>\n  </thead>\n  <tbody>\n    <tr>\n      <th>0</th>\n      <td>female</td>\n      <td>27.900</td>\n      <td>southwest</td>\n    </tr>\n    <tr>\n      <th>1</th>\n      <td>male</td>\n      <td>33.770</td>\n      <td>southeast</td>\n    </tr>\n    <tr>\n      <th>2</th>\n      <td>male</td>\n      <td>33.000</td>\n      <td>southeast</td>\n    </tr>\n    <tr>\n      <th>3</th>\n      <td>male</td>\n      <td>22.705</td>\n      <td>northwest</td>\n    </tr>\n    <tr>\n      <th>4</th>\n      <td>male</td>\n      <td>28.880</td>\n      <td>northwest</td>\n    </tr>\n    <tr>\n      <th>...</th>\n      <td>...</td>\n      <td>...</td>\n      <td>...</td>\n    </tr>\n    <tr>\n      <th>1333</th>\n      <td>male</td>\n      <td>30.970</td>\n      <td>northwest</td>\n    </tr>\n    <tr>\n      <th>1334</th>\n      <td>female</td>\n      <td>31.920</td>\n      <td>northeast</td>\n    </tr>\n    <tr>\n      <th>1335</th>\n      <td>female</td>\n      <td>36.850</td>\n      <td>southeast</td>\n    </tr>\n    <tr>\n      <th>1336</th>\n      <td>female</td>\n      <td>25.800</td>\n      <td>southwest</td>\n    </tr>\n    <tr>\n      <th>1337</th>\n      <td>female</td>\n      <td>29.070</td>\n      <td>northwest</td>\n    </tr>\n  </tbody>\n</table>\n<p>1338 rows × 3 columns</p>\n</div>"
     },
     "execution_count": 4,
     "metadata": {},
     "output_type": "execute_result"
    }
   ],
   "source": [
    "df.drop('smoker', axis = 'columns', inplace = True)\n",
    "df.drop('age', axis = 'columns', inplace = True)\n",
    "df.drop('charges', axis = 'columns', inplace = True)\n",
    "df.drop('children', axis = 'columns', inplace = True)\n",
    "df"
   ],
   "metadata": {
    "collapsed": false
   }
  },
  {
   "cell_type": "markdown",
   "source": [
    "\n",
    "Вывести список уникальных регионов.\n"
   ],
   "metadata": {
    "collapsed": false
   }
  },
  {
   "cell_type": "code",
   "execution_count": 5,
   "outputs": [
    {
     "data": {
      "text/plain": "array(['southwest', 'southeast', 'northwest', 'northeast'], dtype=object)"
     },
     "execution_count": 5,
     "metadata": {},
     "output_type": "execute_result"
    }
   ],
   "source": [
    "pd.unique(df.region)"
   ],
   "metadata": {
    "collapsed": false
   }
  },
  {
   "cell_type": "markdown",
   "source": [
    "\n",
    "Задание №2. Выполнить однофакторный ANOVA тест, чтобы проверить влияние региона на индекс массы тела (BMI), используя первый способ, через библиотеку Scipy.\n"
   ],
   "metadata": {
    "collapsed": false
   }
  },
  {
   "cell_type": "code",
   "execution_count": 6,
   "outputs": [
    {
     "data": {
      "text/plain": "{'northeast': [8, 10, 16, 17, 20, 23, 26, 31, 38, 40, 44, 46, 50, 56, 60, 71, 78, 80, 81, 92, 98, 101, 102, 114, 115, 121, 123, 125, 130, 131, 134, 140, 141, 152, 153, 154, 157, 165, 169, 172, 179, 182, 185, 199, 205, 207, 209, 221, 228, 229, 240, 241, 244, 249, 250, 254, 255, 262, 267, 269, 273, 275, 280, 281, 282, 283, 286, 288, 291, 295, 300, 301, 308, 315, 317, 319, 321, 323, 325, 330, 333, 334, 338, 342, 343, 347, 353, 360, 365, 366, 369, 371, 372, 376, 380, 381, 384, 390, 392, 393, ...], 'northwest': [3, 4, 7, 9, 24, 27, 28, 33, 35, 36, 47, 51, 54, 55, 59, 62, 63, 64, 67, 75, 79, 83, 85, 86, 88, 89, 91, 93, 105, 107, 110, 113, 119, 122, 124, 128, 133, 137, 143, 144, 146, 148, 150, 155, 160, 164, 167, 168, 174, 176, 180, 183, 189, 193, 195, 198, 200, 202, 211, 212, 216, 230, 234, 238, 245, 256, 258, 259, 263, 272, 274, 276, 287, 298, 299, 305, 309, 316, 318, 320, 327, 331, 332, 337, 341, 349, 350, 357, 367, 368, 370, 375, 378, 387, 388, 389, 391, 395, 402, 403, ...], 'southeast': [1, 2, 5, 6, 11, 13, 14, 22, 25, 41, 42, 43, 48, 49, 53, 57, 58, 61, 68, 69, 70, 73, 76, 77, 82, 90, 95, 97, 103, 108, 109, 116, 117, 118, 135, 138, 142, 145, 147, 151, 156, 158, 159, 161, 170, 181, 184, 186, 190, 192, 194, 197, 201, 203, 206, 213, 217, 218, 219, 224, 225, 226, 227, 231, 235, 236, 237, 239, 246, 247, 252, 257, 261, 264, 265, 266, 270, 278, 279, 285, 289, 292, 293, 297, 302, 303, 307, 312, 313, 326, 336, 339, 344, 345, 346, 348, 354, 356, 358, 359, ...], 'southwest': [0, 12, 15, 18, 19, 21, 29, 30, 32, 34, 37, 39, 45, 52, 65, 66, 72, 74, 84, 87, 94, 96, 99, 100, 104, 106, 111, 112, 120, 126, 127, 129, 132, 136, 139, 149, 162, 163, 166, 171, 173, 175, 177, 178, 187, 188, 191, 196, 204, 208, 210, 214, 215, 220, 222, 223, 232, 233, 242, 243, 248, 251, 253, 260, 268, 271, 277, 284, 290, 294, 296, 304, 306, 310, 311, 314, 322, 324, 328, 329, 335, 340, 351, 352, 355, 361, 362, 363, 373, 385, 396, 398, 400, 404, 407, 413, 417, 424, 430, 432, ...]}"
     },
     "execution_count": 6,
     "metadata": {},
     "output_type": "execute_result"
    }
   ],
   "source": [
    "groups = df.groupby('region').groups\n",
    "groups"
   ],
   "metadata": {
    "collapsed": false
   }
  },
  {
   "cell_type": "code",
   "execution_count": 7,
   "outputs": [],
   "source": [
    "groups = df.groupby('region').groups\n",
    "southwest = df.bmi[groups['southwest']]\n",
    "southeast = df.bmi[groups['southeast']]\n",
    "northwest = df.bmi[groups['northwest']]\n",
    "northeast = df.bmi[groups['northeast']]"
   ],
   "metadata": {
    "collapsed": false
   }
  },
  {
   "cell_type": "code",
   "execution_count": 8,
   "outputs": [
    {
     "data": {
      "text/plain": "F_onewayResult(statistic=39.49505720170283, pvalue=1.881838913929143e-24)"
     },
     "execution_count": 8,
     "metadata": {},
     "output_type": "execute_result"
    }
   ],
   "source": [
    "stats.f_oneway(southwest, southeast, northwest, northeast)"
   ],
   "metadata": {
    "collapsed": false
   }
  },
  {
   "cell_type": "markdown",
   "source": [
    "Это означает, что фактор оказывает"
   ],
   "metadata": {
    "collapsed": false
   }
  },
  {
   "cell_type": "markdown",
   "source": [
    "\n",
    "Задание №3. Выполнить однофакторный ANOVA тест, чтобы проверить влияние региона на индекс массы тела (BMI), используя второй способ, с помощью функции anova_lm() из библиотеки statsmodels.\n"
   ],
   "metadata": {
    "collapsed": false
   }
  },
  {
   "cell_type": "code",
   "execution_count": 9,
   "outputs": [
    {
     "name": "stdout",
     "output_type": "stream",
     "text": [
      "                sum_sq      df          F        PR(>F)\n",
      "region     4055.880631     3.0  39.495057  1.881839e-24\n",
      "Residual  45664.319755  1334.0        NaN           NaN\n"
     ]
    }
   ],
   "source": [
    "model = ols('bmi ~ region', data = df).fit()\n",
    "anova_results = sm.stats.anova_lm(model, typ = 2)\n",
    "print(anova_results)"
   ],
   "metadata": {
    "collapsed": false
   }
  },
  {
   "cell_type": "markdown",
   "source": [
    "ANOVA нашел различие, поскольку p-значение меньше 0,05. Это означает регион оказывает статистически значимое влияние на индекс массы тела"
   ],
   "metadata": {
    "collapsed": false
   }
  },
  {
   "cell_type": "markdown",
   "source": [
    "\n",
    "Задание №4. С помощью t критерия Стьюдента перебрать все пары. Определить поправку Бонферрони. Сделать выводы.\n"
   ],
   "metadata": {
    "collapsed": false
   }
  },
  {
   "cell_type": "code",
   "execution_count": 10,
   "outputs": [
    {
     "name": "stdout",
     "output_type": "stream",
     "text": [
      "Группы southwest - southeast pvalue: 5.4374009639680636e-09  отклоняется\n",
      "Группы southwest - northwest pvalue: 0.001076958496307695  отклоняется\n",
      "Группы southwest - northeast pvalue: 0.0019086161671573074  отклоняется\n",
      "Группы southeast - northwest pvalue: 2.643571405230106e-19  отклоняется\n",
      "Группы southeast - northeast pvalue: 1.186014937424813e-17  отклоняется\n",
      "Группы northwest - northeast pvalue: 0.951929170821864  принимается\n",
      "\n",
      " Поправка Бонферрони равна: 0.008 \n",
      "\n"
     ]
    }
   ],
   "source": [
    "region = ['southwest', 'southeast', 'northwest', 'northeast']\n",
    "region_pairs = []\n",
    "alpha = 0.05\n",
    "ben = alpha / 6\n",
    "\n",
    "for i in range(3):\n",
    "    for j in range(i + 1, 4):\n",
    "        region_pairs.append((region[i], region[j]))\n",
    "\n",
    "for i, j in region_pairs:\n",
    "    pvalue = stats.ttest_ind(df.bmi[groups[i]], df.bmi[groups[j]]).pvalue\n",
    "    gip = \"принимается\" if pvalue > ben else \"отклоняется\"\n",
    "    print(f\"Группы {i} - {j} pvalue: {pvalue}  {gip}\")\n",
    "\n",
    "\n",
    "# 6 пар 0.05 константа\n",
    "print('\\n', 'Поправка Бонферрони равна:', round(ben, 3), '\\n')"
   ],
   "metadata": {
    "collapsed": false
   }
  },
  {
   "cell_type": "markdown",
   "source": [
    "\n",
    "Задание №5. Выполнить пост-хок тесты Тьюки и построить график.\n"
   ],
   "metadata": {
    "collapsed": false
   }
  },
  {
   "cell_type": "code",
   "execution_count": 11,
   "outputs": [
    {
     "name": "stdout",
     "output_type": "stream",
     "text": [
      "   Multiple Comparison of Means - Tukey HSD, FWER=0.05    \n",
      "==========================================================\n",
      "  group1    group2  meandiff p-adj   lower   upper  reject\n",
      "----------------------------------------------------------\n",
      "northeast northwest   0.0263 0.9999 -1.1552  1.2078  False\n",
      "northeast southeast   4.1825    0.0   3.033   5.332   True\n",
      "northeast southwest   1.4231 0.0107  0.2416  2.6046   True\n",
      "northwest southeast   4.1562    0.0  3.0077  5.3047   True\n",
      "northwest southwest   1.3968 0.0127  0.2162  2.5774   True\n",
      "southeast southwest  -2.7594    0.0 -3.9079 -1.6108   True\n",
      "----------------------------------------------------------\n"
     ]
    },
    {
     "data": {
      "text/plain": "<Figure size 1000x600 with 1 Axes>",
      "image/png": "[encoded data removed]"
     },
     "metadata": {},
     "output_type": "display_data"
    }
   ],
   "source": [
    "tukey = pairwise_tukeyhsd(endog = df.bmi, groups = df.region, alpha = 0.05)\n",
    "tukey.plot_simultaneous()\n",
    "plt.vlines(x = 31.25, ymin = -0.5, ymax = 3.5, color = 'red')\n",
    "print(tukey.summary())"
   ],
   "metadata": {
    "collapsed": false
   }
  },
  {
   "cell_type": "markdown",
   "source": [
    "\n",
    "Задание №6. Выполнить двухфакторный ANOVA тест, чтобы проверить влияние региона и пола на индекс массы тела (BMI), используя функцию anova_lm() из библиотеки statsmodels.\n"
   ],
   "metadata": {
    "collapsed": false
   }
  },
  {
   "cell_type": "code",
   "execution_count": 12,
   "outputs": [
    {
     "name": "stdout",
     "output_type": "stream",
     "text": [
      "                      df        sum_sq      mean_sq          F        PR(>F)\n",
      "C(region)            3.0   4055.880631  1351.960210  39.602259  1.636858e-24\n",
      "C(sex)               1.0     86.007035    86.007035   2.519359  1.126940e-01\n",
      "C(region):C(sex)     3.0    174.157808    58.052603   1.700504  1.650655e-01\n",
      "Residual          1330.0  45404.154911    34.138462        NaN           NaN\n",
      "True\n"
     ]
    }
   ],
   "source": [
    "model = ols('bmi ~ C(region) + C(sex) + C(region):C(sex)', data = df).fit()\n",
    "print(sm.stats.anova_lm(model, type = 2))\n",
    "print(1.126940e-01 > 0.05)"
   ],
   "metadata": {
    "collapsed": false
   }
  },
  {
   "cell_type": "markdown",
   "source": [
    "Поскольку p-значения для региона меньше 0,05 говорит нам об отсутствии значительного эффекта\n",
    "Поскольку p-значения для региона больше 0,05 говорит нам о наличие значительного эффекта\n",
    "C(region):C(sex) не менее 0,05, это говорит нам об отсутствии значительного эффекта взаимодействия между"
   ],
   "metadata": {
    "collapsed": false
   }
  },
  {
   "cell_type": "markdown",
   "source": [
    "\n",
    "Задание №7. Выполнить пост-хок тесты Тьюки и построить график.\n"
   ],
   "metadata": {
    "collapsed": false
   }
  },
  {
   "cell_type": "code",
   "execution_count": 13,
   "outputs": [
    {
     "name": "stdout",
     "output_type": "stream",
     "text": [
      "            Multiple Comparison of Means - Tukey HSD, FWER=0.05             \n",
      "============================================================================\n",
      "      group1             group2       meandiff p-adj   lower   upper  reject\n",
      "----------------------------------------------------------------------------\n",
      "female / northeast female / northwest  -0.0464    1.0 -2.0142  1.9215  False\n",
      "female / northeast female / southeast   3.3469    0.0    1.41  5.2839   True\n",
      "female / northeast female / southwest   0.7362 0.9497 -1.2377    2.71  False\n",
      "female / northeast   male / northeast  -0.2998 0.9998 -2.2706  1.6711  False\n",
      "female / northeast   male / northwest  -0.2042    1.0 -2.1811  1.7728  False\n",
      "female / northeast   male / southeast   4.6657    0.0  2.7634   6.568   True\n",
      "female / northeast   male / southwest   1.8051 0.1007 -0.1657   3.776  False\n",
      "female / northwest female / southeast   3.3933    0.0  1.4656   5.321   True\n",
      "female / northwest female / southwest   0.7825 0.9294 -1.1822  2.7473  False\n",
      "female / northwest   male / northeast  -0.2534 0.9999 -2.2152  1.7083  False\n",
      "female / northwest   male / northwest  -0.1578    1.0 -2.1257    1.81  False\n",
      "female / northwest   male / southeast    4.712    0.0  2.8192  6.6049   True\n",
      "female / northwest   male / southwest   1.8515 0.0806 -0.1103  3.8132  False\n",
      "female / southeast female / southwest  -2.6108 0.0011 -4.5446 -0.6769   True\n",
      "female / southeast   male / northeast  -3.6467    0.0 -5.5775 -1.7159   True\n",
      "female / southeast   male / northwest  -3.5511    0.0 -5.4881 -1.6141   True\n",
      "female / southeast   male / southeast   1.3187 0.3823  -0.542  3.1795  False\n",
      "female / southeast   male / southwest  -1.5418 0.2304 -3.4726   0.389  False\n",
      "female / southwest   male / northeast   -1.036 0.7515 -3.0037  0.9318  False\n",
      "female / southwest   male / northwest  -0.9403 0.8354 -2.9142  1.0335  False\n",
      "female / southwest   male / southeast   3.9295    0.0  2.0304  5.8286   True\n",
      "female / southwest   male / southwest    1.069 0.7201 -0.8988  3.0367  False\n",
      "  male / northeast   male / northwest   0.0956    1.0 -1.8752  2.0665  False\n",
      "  male / northeast   male / southeast   4.9655    0.0  3.0695  6.8614   True\n",
      "  male / northeast   male / southwest   2.1049 0.0258  0.1402  4.0697   True\n",
      "  male / northwest   male / southeast   4.8698    0.0  2.9676  6.7721   True\n",
      "  male / northwest   male / southwest   2.0093  0.042  0.0385  3.9801   True\n",
      "  male / southeast   male / southwest  -2.8606 0.0001 -4.7565 -0.9646   True\n",
      "----------------------------------------------------------------------------\n"
     ]
    },
    {
     "data": {
      "text/plain": "<Figure size 1000x600 with 1 Axes>",
      "image/png": "[encoded data removed]"
     },
     "metadata": {},
     "output_type": "display_data"
    }
   ],
   "source": [
    "df['combination'] = df.sex + ' / ' + df.region\n",
    "tukey = pairwise_tukeyhsd(endog = df.bmi, groups = df.combination, alpha = 0.05)\n",
    "tukey.plot_simultaneous()\n",
    "plt.vlines(x = 0, ymin = -0.5, ymax = 7.5, color = 'red')\n",
    "print(tukey.summary())"
   ],
   "metadata": {
    "collapsed": false
   }
  }
 ],
 "metadata": {
  "kernelspec": {
   "display_name": "Python 3",
   "language": "python",
   "name": "python3"
  },
  "language_info": {
   "codemirror_mode": {
    "name": "ipython",
    "version": 2
   },
   "file_extension": ".py",
   "mimetype": "text/x-python",
   "name": "python",
   "nbconvert_exporter": "python",
   "pygments_lexer": "ipython2",
   "version": "2.7.6"
  }
 },
 "nbformat": 4,
 "nbformat_minor": 0
}
